{
 "cells": [
  {
   "cell_type": "markdown",
   "metadata": {},
   "source": [
    "<center>\n",
    "    <img src=\"https://cf-courses-data.s3.us.cloud-object-storage.appdomain.cloud/IBMDeveloperSkillsNetwork-DS0105EN-SkillsNetwork/labs/Module2/images/SN_web_lightmode.png\" width=\"300\" alt=\"cognitiveclass.ai logo\">\n",
    "</center>\n"
   ]
  },
  {
   "cell_type": "markdown",
   "metadata": {},
   "source": [
    "#### Add your code below following the instructions given in the course\n"
   ]
  },
  {
   "cell_type": "markdown",
   "metadata": {},
   "source": [
    "Title of the notebook - Jupyter_Notebook"
   ]
  },
  {
   "cell_type": "markdown",
   "metadata": {},
   "source": [
    "Introduction\n",
    "This notebook demonstrates basic data science concepts using Python, including data science languages, libraries, tools, arithmetic operations, and other related tasks. The examples aim to showcase simple tasks that are part of the data science workflow.\n"
   ]
  },
  {
   "cell_type": "markdown",
   "metadata": {},
   "source": [
    "Data Science Languages\n",
    "Some of the common programming languages used in data science are:\n",
    "- Python\n",
    "- R\n",
    "- SQL\n",
    "- Java\n",
    "- Julia\n",
    "- Scala"
   ]
  },
  {
   "cell_type": "markdown",
   "metadata": {},
   "source": [
    "Data Science Libraries\n",
    "Here are some of the popular libraries used in data science:\n",
    "- **NumPy**: Used for numerical computations.\n",
    "- **Pandas**: Used for data manipulation and analysis.\n",
    "- **Matplotlib**: Used for creating static, animated, and interactive visualizations.\n",
    "- **Seaborn**: Built on top of Matplotlib, provides a high-level interface for statistical graphics.\n",
    "- **SciPy**: Used for scientific and technical computing.\n",
    "- **Scikit-learn**: A machine learning library.\n",
    "- **TensorFlow**: A framework for machine learning and artificial intelligence.\n",
    "- **Keras**: An API for building deep learning models."
   ]
  },
  {
   "cell_type": "markdown",
   "metadata": {},
   "source": [
    "Data Science Tools\n",
    "| Tool          | Purpose                                      |\n",
    "| ------------- | -------------------------------------------- |\n",
    "| Jupyter       | Interactive computing and visualization      |\n",
    "| RStudio       | IDE for R programming                        |\n",
    "| Apache Spark  | Big data processing                          |\n",
    "| Hadoop        | Distributed data storage and processing      |\n",
    "| Tableau       | Data visualization                           |\n",
    "| GitHub        | Version control and collaboration            |\n",
    "| Docker        | Containerization for data science workflows  |\n",
    "| Google Colab  | Cloud-based Jupyter notebooks                |"
   ]
  },
  {
   "cell_type": "markdown",
   "metadata": {},
   "source": [
    "Introduction to arithmetic expression examples\n",
    "In this section, we will demonstrate basic arithmetic operations in Python, including addition, multiplication, and others.\n"
   ]
  },
  {
   "cell_type": "code",
   "execution_count": null,
   "metadata": {},
   "outputs": [],
   "source": [
    "# Function to multiply and add numbers\n",
    "def multiply_and_add(a, b, c):\n",
    "    multiplication_result = a * b\n",
    "    addition_result = multiplication_result + c\n",
    "    return multiplication_result, addition_result\n",
    "\n",
    "# Example usage\n",
    "a = 5\n",
    "b = 3\n",
    "c = 2\n",
    "\n",
    "multiplication, addition = multiply_and_add(a, b, c)\n",
    "print(f\"Multiplication Result: {multiplication}\")\n",
    "print(f\"Addition Result: {addition}\")\n"
   ]
  },
  {
   "cell_type": "code",
   "execution_count": null,
   "metadata": {},
   "outputs": [],
   "source": [
    "# Function to convert minutes to hours\n",
    "def convert_minutes_to_hours(minutes):\n",
    "    hours = minutes // 60  # Integer division to get whole hours\n",
    "    remaining_minutes = minutes % 60  # Remainder is the remaining minutes\n",
    "    return hours, remaining_minutes\n",
    "\n",
    "# Example usage\n",
    "minutes = 125\n",
    "hours, remaining_minutes = convert_minutes_to_hours(minutes)\n",
    "\n",
    "print(f\"{minutes} minutes is equal to {hours} hours and {remaining_minutes} minutes.\")\n"
   ]
  },
  {
   "cell_type": "markdown",
   "metadata": {},
   "source": [
    "List of objectives\n",
    "- To understand and explore different data science languages and libraries.\n",
    "- To demonstrate basic arithmetic operations in Python.\n",
    "- To showcase how to convert units (minutes to hours) using Python.\n",
    "- To present common data science tools used in the industry."
   ]
  },
  {
   "cell_type": "markdown",
   "metadata": {},
   "source": [
    "Author's name - Sathwik"
   ]
  },
  {
   "cell_type": "code",
   "execution_count": null,
   "metadata": {},
   "outputs": [],
   "source": []
  },
  {
   "cell_type": "code",
   "execution_count": null,
   "metadata": {},
   "outputs": [],
   "source": []
  }
 ],
 "metadata": {
  "kernelspec": {
   "display_name": "Python 3 (ipykernel)",
   "language": "python",
   "name": "python3"
  },
  "language_info": {
   "codemirror_mode": {
    "name": "ipython",
    "version": 3
   },
   "file_extension": ".py",
   "mimetype": "text/x-python",
   "name": "python",
   "nbconvert_exporter": "python",
   "pygments_lexer": "ipython3",
   "version": "3.11.9"
  }
 },
 "nbformat": 4,
 "nbformat_minor": 4
}
